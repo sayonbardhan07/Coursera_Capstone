{
  "nbformat": 4,
  "nbformat_minor": 0,
  "metadata": {
    "colab": {
      "name": "Final Assignment_W4_2.ipynb",
      "provenance": [],
      "authorship_tag": "ABX9TyM/YBHBfL66Zet937+2M5vY",
      "include_colab_link": true
    },
    "kernelspec": {
      "name": "python3",
      "display_name": "Python 3"
    }
  },
  "cells": [
    {
      "cell_type": "markdown",
      "metadata": {
        "id": "view-in-github",
        "colab_type": "text"
      },
      "source": [
        "<a href=\"https://colab.research.google.com/github/sayonbardhan07/Coursera_Capstone/blob/master/Final_Assignment_W4_2.ipynb\" target=\"_parent\"><img src=\"https://colab.research.google.com/assets/colab-badge.svg\" alt=\"Open In Colab\"/></a>"
      ]
    },
    {
      "cell_type": "markdown",
      "metadata": {
        "id": "3uP4yNe6tyYK"
      },
      "source": [
        "# **The Battle of Neighborhoods | Data Description**"
      ]
    },
    {
      "cell_type": "markdown",
      "metadata": {
        "id": "XwL46PQityFz"
      },
      "source": [
        "### **Data Description:**"
      ]
    },
    {
      "cell_type": "markdown",
      "metadata": {
        "id": "jdFGvXXhtyE9"
      },
      "source": [
        "Data Link: https://en.wikipedia.org/wiki/List_of_postal_codes_of_Canada:_M\r\n",
        "\r\n",
        "Will use Scarborough dataset which we scrapped from wikipedia on Week 3. Dataset consisting of latitude and longitude, zip codes."
      ]
    },
    {
      "cell_type": "markdown",
      "metadata": {
        "id": "iKD6UAsOt-Dz"
      },
      "source": [
        "### **Foursquare API Data:**"
      ]
    },
    {
      "cell_type": "markdown",
      "metadata": {
        "id": "NMpwzQ8lt9bb"
      },
      "source": [
        "We will need data about different venues in different neighborhoods of that specific borough. In order to gain that information we will use \"Foursquare\" locational information. Foursquare is a location data provider with information about all manner of venues and events within an area of interest. Such information includes venue names, locations, menus and even photos. As such, the foursquare location platform will be used as the sole data source since all the stated required information can be obtained through the API.\r\n",
        "\r\n",
        "After finding the list of neighborhoods, we then connect to the Foursquare API to gather information about venues inside each and every neighborhood. For each neighborhood, we have chosen the radius to be 100 meter.\r\n",
        "\r\n",
        "The data retrieved from Foursquare contained information of venues within a specified distance of the longitude and latitude of the postcodes. The information obtained per venue as follows:\r\n",
        "\r\n",
        "1. Neighborhood\r\n",
        "2. Neighborhood Latitude\r\n",
        "3. Neighborhood Longitude\r\n",
        "4. Venue\r\n",
        "5. Name of the venue e.g. the name of a store or restaurant\r\n",
        "6. Venue Latitude\r\n",
        "7. Venue Longitude\r\n",
        "8. Venue Category"
      ]
    },
    {
      "cell_type": "code",
      "metadata": {
        "id": "ulbGqPvdtt05"
      },
      "source": [
        ""
      ],
      "execution_count": null,
      "outputs": []
    }
  ]
}