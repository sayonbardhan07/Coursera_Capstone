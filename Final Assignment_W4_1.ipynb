{
  "nbformat": 4,
  "nbformat_minor": 0,
  "metadata": {
    "colab": {
      "name": "Untitled0.ipynb",
      "provenance": [],
      "authorship_tag": "ABX9TyNI3kmf3bcfTKWaJEroh+vH",
      "include_colab_link": true
    },
    "kernelspec": {
      "name": "python3",
      "display_name": "Python 3"
    }
  },
  "cells": [
    {
      "cell_type": "markdown",
      "metadata": {
        "id": "view-in-github",
        "colab_type": "text"
      },
      "source": [
        "<a href=\"https://colab.research.google.com/github/sayonbardhan07/Coursera_Capstone/blob/master/Final%20Assignment_W4_1.ipynb\" target=\"_parent\"><img src=\"https://colab.research.google.com/assets/colab-badge.svg\" alt=\"Open In Colab\"/></a>"
      ]
    },
    {
      "cell_type": "markdown",
      "metadata": {
        "id": "Xik1PMMXkptd"
      },
      "source": [
        "# **The Battle of Neighborhoods | Business Proposal | Introduction**"
      ]
    },
    {
      "cell_type": "markdown",
      "metadata": {
        "id": "MTGcsZ9VkwB1"
      },
      "source": [
        "### **Introduction**"
      ]
    },
    {
      "cell_type": "markdown",
      "metadata": {
        "id": "0HQdI-_Yk4dL"
      },
      "source": [
        "The purpose of this Project is to help people in exploring better facilities around their neighborhood. It will help people making smart and efficient decision on selecting great neighborhood out of numbers of other neighborhoods in Scarborough, Toranto.\r\n",
        "\r\n",
        "Lots of people are migrating to various states of Canada and needed lots of research for good housing prices and reputated schools for their children. This project is for those people who are looking for better neighborhoods. For ease of accessing to Cafe, School, Super market, medical shops, grocery shops, mall, theatre, hospital, like minded people, etc.\r\n",
        "\r\n",
        "This Project aim to create an analysis of features for a people migrating to Scarborough to search a best neighborhood as a comparative analysis between neighborhoods. The features include median housing price and better school according to ratings, crime rates of that particular area, road connectivity, weather conditions, good management for emergency, water resources both freash and waste water and excrement conveyed in sewers and recreational facilities.\r\n",
        "\r\n",
        "It will help people to get awareness of the area and neighborhood before moving to a new city, state, country or place for their work or to start a new fresh life."
      ]
    },
    {
      "cell_type": "markdown",
      "metadata": {
        "id": "GdQIzYZdk5Ib"
      },
      "source": [
        "### **Problem Tried to Solve:**"
      ]
    },
    {
      "cell_type": "markdown",
      "metadata": {
        "id": "Qz4CM4MOlJq7"
      },
      "source": [
        "The major purpose of this project, is to suggest a better neighborhood in a new city for the person who are shiffting there. Social presence in society in terms of like minded people. Connectivity to the airport, bus stand, city center, markets and other daily needs things nearby.\r\n",
        "\r\n",
        "\r\n",
        "1. Sorted list of house in terms of housing prices in a ascending or descending order\r\n",
        "2. Sorted list of schools in terms of location, fees, rating and reviews"
      ]
    },
    {
      "cell_type": "markdown",
      "metadata": {
        "id": "-xzn380FlKPR"
      },
      "source": [
        "### **The Location:**"
      ]
    },
    {
      "cell_type": "markdown",
      "metadata": {
        "id": "9bAAF3UklugI"
      },
      "source": [
        "Scarborough is a popular destination for new immigrants in Canada to reside. As a result, it is one of the most diverse and multicultural areas in the Greater Toronto Area, being home to various religious groups and places of worship. Although immigration has become a hot topic over the past few years with more governments seeking more restrictions on immigrants and refugees, the general trend of immigration into Canada has been one of on the rise."
      ]
    },
    {
      "cell_type": "markdown",
      "metadata": {
        "id": "MPf64zrAlvBD"
      },
      "source": [
        "### **Foursquare API:**"
      ]
    },
    {
      "cell_type": "markdown",
      "metadata": {
        "id": "gXAmwUhXlw1R"
      },
      "source": [
        "This project would use Four-square API as its prime data gathering source as it has a database of millions of places, especially their places API which provides the ability to perform location search, location sharing and details about a business."
      ]
    },
    {
      "cell_type": "markdown",
      "metadata": {
        "id": "XAVyklPXlwpj"
      },
      "source": [
        "### **Work Flow:**"
      ]
    },
    {
      "cell_type": "markdown",
      "metadata": {
        "id": "-hySsaDHlwdL"
      },
      "source": [
        "Using credentials of Foursquare API features of near-by places of the neighborhoods would be mined. Due to http request limitations the number of places per neighborhood parameter would reasonably be set to 100 and the radius parameter would be set to 500."
      ]
    },
    {
      "cell_type": "markdown",
      "metadata": {
        "id": "arxy7d3qlwFw"
      },
      "source": [
        "### **Clustering Approach:**"
      ]
    },
    {
      "cell_type": "markdown",
      "metadata": {
        "id": "wQbKLdbfrzE7"
      },
      "source": [
        "To compare the similarities of two cities, we decided to explore neighborhoods, segment them, and group them into clusters to find similar neighborhoods in a big city like New York and Toronto. To be able to do that, we need to cluster data which is a form of unsupervised machine learning: k-means clustering algorithm"
      ]
    },
    {
      "cell_type": "markdown",
      "metadata": {
        "id": "GAHJOrTMrzj5"
      },
      "source": [
        "### **Libraries Which are Used to Develope the Project:**"
      ]
    },
    {
      "cell_type": "markdown",
      "metadata": {
        "id": "_jWtN-qHlvmX"
      },
      "source": [
        "Pandas: For creating and manipulating dataframes.\r\n",
        "\r\n",
        "Folium: Python visualization library would be used to visualize the neighborhoods cluster distribution of using interactive leaflet map.\r\n",
        "\r\n",
        "Scikit Learn: For importing k-means clustering.\r\n",
        "\r\n",
        "JSON: Library to handle JSON files.\r\n",
        "\r\n",
        "XML: To separate data from presentation and XML stores data in plain text format.\r\n",
        "\r\n",
        "Geocoder: To retrieve Location Data.\r\n",
        "\r\n",
        "Beautiful Soup and Requests: To scrap and library to handle http requests.\r\n",
        "\r\n",
        "Matplotlib: Python Plotting Module."
      ]
    }
  ]
}